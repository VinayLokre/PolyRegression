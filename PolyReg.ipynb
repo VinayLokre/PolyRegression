{
  "metadata": {
    "kernelspec": {
      "language": "python",
      "display_name": "Python 3",
      "name": "python3"
    },
    "language_info": {
      "pygments_lexer": "ipython3",
      "nbconvert_exporter": "python",
      "version": "3.6.4",
      "file_extension": ".py",
      "codemirror_mode": {
        "name": "ipython",
        "version": 3
      },
      "name": "python",
      "mimetype": "text/x-python"
    },
    "colab": {
      "provenance": []
    }
  },
  "nbformat_minor": 0,
  "nbformat": 4,
  "cells": [
    {
      "cell_type": "code",
      "source": [
        "#importing the required packages\n",
        "import numpy as np\n",
        "import pandas as pd\n",
        "import matplotlib.pyplot as plt"
      ],
      "metadata": {
        "id": "GXI1413Foust"
      },
      "execution_count": null,
      "outputs": []
    },
    {
      "cell_type": "code",
      "source": [
        "#Get the dataset\n",
        "dataset = pd.read_csv('/content/Position_Salaries.csv')"
      ],
      "metadata": {
        "id": "Kr3QiE8Jf3Pa"
      },
      "execution_count": null,
      "outputs": []
    },
    {
      "cell_type": "code",
      "source": [
        "#Get a glimpse of the Dataset\n",
        "dataset.head()"
      ],
      "metadata": {
        "id": "y8hHhyM1BuIb",
        "outputId": "5d2dda07-42c3-48bd-ef34-617aa4f78f4e",
        "colab": {
          "base_uri": "https://localhost:8080/",
          "height": 206
        }
      },
      "execution_count": null,
      "outputs": [
        {
          "output_type": "execute_result",
          "data": {
            "text/plain": [
              "            Position  Level  Salary\n",
              "0   Business Analyst      1   45000\n",
              "1  Junior Consultant      2   50000\n",
              "2  Senior Consultant      3   60000\n",
              "3            Manager      4   80000\n",
              "4    Country Manager      5  110000"
            ],
            "text/html": [
              "\n",
              "  <div id=\"df-ebbba7ec-b9e0-4c92-b596-33ac11a8652f\">\n",
              "    <div class=\"colab-df-container\">\n",
              "      <div>\n",
              "<style scoped>\n",
              "    .dataframe tbody tr th:only-of-type {\n",
              "        vertical-align: middle;\n",
              "    }\n",
              "\n",
              "    .dataframe tbody tr th {\n",
              "        vertical-align: top;\n",
              "    }\n",
              "\n",
              "    .dataframe thead th {\n",
              "        text-align: right;\n",
              "    }\n",
              "</style>\n",
              "<table border=\"1\" class=\"dataframe\">\n",
              "  <thead>\n",
              "    <tr style=\"text-align: right;\">\n",
              "      <th></th>\n",
              "      <th>Position</th>\n",
              "      <th>Level</th>\n",
              "      <th>Salary</th>\n",
              "    </tr>\n",
              "  </thead>\n",
              "  <tbody>\n",
              "    <tr>\n",
              "      <th>0</th>\n",
              "      <td>Business Analyst</td>\n",
              "      <td>1</td>\n",
              "      <td>45000</td>\n",
              "    </tr>\n",
              "    <tr>\n",
              "      <th>1</th>\n",
              "      <td>Junior Consultant</td>\n",
              "      <td>2</td>\n",
              "      <td>50000</td>\n",
              "    </tr>\n",
              "    <tr>\n",
              "      <th>2</th>\n",
              "      <td>Senior Consultant</td>\n",
              "      <td>3</td>\n",
              "      <td>60000</td>\n",
              "    </tr>\n",
              "    <tr>\n",
              "      <th>3</th>\n",
              "      <td>Manager</td>\n",
              "      <td>4</td>\n",
              "      <td>80000</td>\n",
              "    </tr>\n",
              "    <tr>\n",
              "      <th>4</th>\n",
              "      <td>Country Manager</td>\n",
              "      <td>5</td>\n",
              "      <td>110000</td>\n",
              "    </tr>\n",
              "  </tbody>\n",
              "</table>\n",
              "</div>\n",
              "      <button class=\"colab-df-convert\" onclick=\"convertToInteractive('df-ebbba7ec-b9e0-4c92-b596-33ac11a8652f')\"\n",
              "              title=\"Convert this dataframe to an interactive table.\"\n",
              "              style=\"display:none;\">\n",
              "        \n",
              "  <svg xmlns=\"http://www.w3.org/2000/svg\" height=\"24px\"viewBox=\"0 0 24 24\"\n",
              "       width=\"24px\">\n",
              "    <path d=\"M0 0h24v24H0V0z\" fill=\"none\"/>\n",
              "    <path d=\"M18.56 5.44l.94 2.06.94-2.06 2.06-.94-2.06-.94-.94-2.06-.94 2.06-2.06.94zm-11 1L8.5 8.5l.94-2.06 2.06-.94-2.06-.94L8.5 2.5l-.94 2.06-2.06.94zm10 10l.94 2.06.94-2.06 2.06-.94-2.06-.94-.94-2.06-.94 2.06-2.06.94z\"/><path d=\"M17.41 7.96l-1.37-1.37c-.4-.4-.92-.59-1.43-.59-.52 0-1.04.2-1.43.59L10.3 9.45l-7.72 7.72c-.78.78-.78 2.05 0 2.83L4 21.41c.39.39.9.59 1.41.59.51 0 1.02-.2 1.41-.59l7.78-7.78 2.81-2.81c.8-.78.8-2.07 0-2.86zM5.41 20L4 18.59l7.72-7.72 1.47 1.35L5.41 20z\"/>\n",
              "  </svg>\n",
              "      </button>\n",
              "      \n",
              "  <style>\n",
              "    .colab-df-container {\n",
              "      display:flex;\n",
              "      flex-wrap:wrap;\n",
              "      gap: 12px;\n",
              "    }\n",
              "\n",
              "    .colab-df-convert {\n",
              "      background-color: #E8F0FE;\n",
              "      border: none;\n",
              "      border-radius: 50%;\n",
              "      cursor: pointer;\n",
              "      display: none;\n",
              "      fill: #1967D2;\n",
              "      height: 32px;\n",
              "      padding: 0 0 0 0;\n",
              "      width: 32px;\n",
              "    }\n",
              "\n",
              "    .colab-df-convert:hover {\n",
              "      background-color: #E2EBFA;\n",
              "      box-shadow: 0px 1px 2px rgba(60, 64, 67, 0.3), 0px 1px 3px 1px rgba(60, 64, 67, 0.15);\n",
              "      fill: #174EA6;\n",
              "    }\n",
              "\n",
              "    [theme=dark] .colab-df-convert {\n",
              "      background-color: #3B4455;\n",
              "      fill: #D2E3FC;\n",
              "    }\n",
              "\n",
              "    [theme=dark] .colab-df-convert:hover {\n",
              "      background-color: #434B5C;\n",
              "      box-shadow: 0px 1px 3px 1px rgba(0, 0, 0, 0.15);\n",
              "      filter: drop-shadow(0px 1px 2px rgba(0, 0, 0, 0.3));\n",
              "      fill: #FFFFFF;\n",
              "    }\n",
              "  </style>\n",
              "\n",
              "      <script>\n",
              "        const buttonEl =\n",
              "          document.querySelector('#df-ebbba7ec-b9e0-4c92-b596-33ac11a8652f button.colab-df-convert');\n",
              "        buttonEl.style.display =\n",
              "          google.colab.kernel.accessAllowed ? 'block' : 'none';\n",
              "\n",
              "        async function convertToInteractive(key) {\n",
              "          const element = document.querySelector('#df-ebbba7ec-b9e0-4c92-b596-33ac11a8652f');\n",
              "          const dataTable =\n",
              "            await google.colab.kernel.invokeFunction('convertToInteractive',\n",
              "                                                     [key], {});\n",
              "          if (!dataTable) return;\n",
              "\n",
              "          const docLinkHtml = 'Like what you see? Visit the ' +\n",
              "            '<a target=\"_blank\" href=https://colab.research.google.com/notebooks/data_table.ipynb>data table notebook</a>'\n",
              "            + ' to learn more about interactive tables.';\n",
              "          element.innerHTML = '';\n",
              "          dataTable['output_type'] = 'display_data';\n",
              "          await google.colab.output.renderOutput(dataTable, element);\n",
              "          const docLink = document.createElement('div');\n",
              "          docLink.innerHTML = docLinkHtml;\n",
              "          element.appendChild(docLink);\n",
              "        }\n",
              "      </script>\n",
              "    </div>\n",
              "  </div>\n",
              "  "
            ]
          },
          "metadata": {},
          "execution_count": 3
        }
      ]
    },
    {
      "cell_type": "code",
      "source": [
        "#Separating the independent and dependent features\n",
        "#Dependent feature\n",
        "y = np.asarray(dataset['Salary'].values.tolist()) \n",
        "\n",
        "# Independent Feature\n",
        "X = np.asarray(dataset['Level'].values.tolist())"
      ],
      "metadata": {
        "id": "ake97iPi8_I7"
      },
      "execution_count": null,
      "outputs": []
    },
    {
      "cell_type": "code",
      "source": [
        "#X = X.reshape(-1,1)\n",
        "#y = y.reshape(-1,1)"
      ],
      "metadata": {
        "id": "Xyw4euhBu1VP"
      },
      "execution_count": null,
      "outputs": []
    },
    {
      "cell_type": "code",
      "source": [
        "#Get the shapes of X and y\n",
        "print(\"Shape of the X is \",X.shape)\n",
        "print(\"Shape of the Y is\",y.shape)"
      ],
      "metadata": {
        "id": "DaSyDT_fGlf5",
        "outputId": "240592af-ab47-47b0-dff4-c64137dd63d6",
        "colab": {
          "base_uri": "https://localhost:8080/"
        }
      },
      "execution_count": null,
      "outputs": [
        {
          "output_type": "stream",
          "name": "stdout",
          "text": [
            "Shape of the X is  (10,)\n",
            "Shape of the Y is (10,)\n"
          ]
        }
      ]
    },
    {
      "cell_type": "code",
      "source": [
        "def poly_features(features, X):\n",
        "  data = pd.DataFrame(np.zeros((X.shape[0],features)))\n",
        "  for i in range(1,features+1):\n",
        "    data.iloc[:,i-1] = (X**i)\n",
        "  X_poly = np.array(data.values.tolist())\n",
        "  return X_poly"
      ],
      "metadata": {
        "id": "Rl7z014BRVlI"
      },
      "execution_count": null,
      "outputs": []
    },
    {
      "cell_type": "code",
      "source": [
        "# The method \"split_data\" splits the given dataset into trainset and testset\n",
        "# This is similar to the method \"train_test_split\" from \"sklearn.model_selection\"\n",
        "def split_data(X,y,test_size=0.2,random_state=0):\n",
        "    np.random.seed(random_state)                  #set the seed for reproducible results\n",
        "    indices = np.random.permutation(len(X))       #shuffling the indices\n",
        "    data_test_size = int(X.shape[0] * test_size)  #Get the test size\n",
        "\n",
        "    #Separating the Independent and Dependent features into the Train and Test Set\n",
        "    train_indices = indices[data_test_size:]\n",
        "    test_indices = indices[:data_test_size]\n",
        "    X_train = X[train_indices]\n",
        "    y_train = y[train_indices]\n",
        "    X_test = X[test_indices]\n",
        "    y_test = y[test_indices]\n",
        "    return X_train, y_train, X_test, y_test"
      ],
      "metadata": {
        "id": "sMFw3Ps4IjIY"
      },
      "execution_count": null,
      "outputs": []
    },
    {
      "cell_type": "code",
      "source": [
        "# The method pred_to_plot returns predictions on given values and helps in\n",
        "# better visualization\n",
        "def pred_to_plot(W_trained, X):\n",
        "  prediction_values = list()\n",
        "  for i in range(X.shape[0]):\n",
        "    value = regressor.predict(W_trained,X[i])\n",
        "    prediction_values.append(value)\n",
        "  return prediction_values"
      ],
      "metadata": {
        "id": "RvTLCV2VqAZ4"
      },
      "execution_count": null,
      "outputs": []
    },
    {
      "cell_type": "code",
      "source": [
        "class polynomialRegression():\n",
        "\n",
        "  def __init__(self):\n",
        "    #No instance Variables required\n",
        "    pass\n",
        "\n",
        "  def forward(self,X,y,W):\n",
        "    y_pred = sum(W * X)\n",
        "    loss = ((y_pred-y)**2)/2    #Loss = Squared Error, we introduce 1/2 for ease in the calculation\n",
        "    return loss, y_pred\n",
        "\n",
        "  def updateWeights(self,X,y_pred,y_true,W,alpha,index):\n",
        "    for i in range(X.shape[1]):\n",
        "      #alpha = learning rate, rest of the RHS is derivative of loss function\n",
        "      W[i] -= (alpha * (y_pred-y_true[index])*X[index][i]) \n",
        "    return W\n",
        "\n",
        "  def train(self, X, y, epochs=10, alpha=0.001, random_state=2):\n",
        "    num_rows = X.shape[0] #Number of Rows\n",
        "    num_cols = X.shape[1] #Number of Columns \n",
        "    W = np.random.randn(1,num_cols) / np.sqrt(num_rows) #Weight Initialization\n",
        "#kfold\n",
        "    #Calculating Loss and Updating Weights\n",
        "    train_loss = []\n",
        "    num_epochs = []\n",
        "    train_indices = [i for i in range(X.shape[0])]\n",
        "    for j in range(epochs):\n",
        "      cost=0\n",
        "      np.random.seed(random_state)\n",
        "      np.random.shuffle(train_indices)\n",
        "      for i in train_indices:\n",
        "        loss, y_pred = self.forward(X[i],y[i],W[0])\n",
        "        cost+=loss\n",
        "        W[0] = self.updateWeights(X,y_pred,y,W[0],alpha,i)\n",
        "      train_loss.append(cost)\n",
        "      num_epochs.append(j)\n",
        "    return W[0], train_loss, num_epochs\n",
        "\n",
        "  def test(self, X_test, y_test, W_trained):\n",
        "    test_pred = []\n",
        "    test_loss = []\n",
        "    test_indices = [i for i in range(X_test.shape[0])]\n",
        "    for i in test_indices:\n",
        "        loss, y_test_pred = self.forward(X_test[i], W_trained, y_test[i])\n",
        "        test_pred.append(y_test_pred)\n",
        "        test_loss.append(loss)\n",
        "    return test_pred, test_loss\n",
        "    \n",
        "\n",
        "  def predict(self, W_trained, X_sample):\n",
        "    prediction = sum(W_trained * X_sample)\n",
        "    return prediction\n",
        "\n",
        "  def plotLoss(self, loss, epochs):\n",
        "    plt.plot(epochs, loss)\n",
        "    plt.xlabel('Number of Epochs')\n",
        "    plt.ylabel('Loss')\n",
        "    plt.title('Plot Loss')\n",
        "    plt.show()\n",
        "  \n"
      ],
      "metadata": {
        "id": "mBt41FyrunIl"
      },
      "execution_count": null,
      "outputs": []
    },
    {
      "cell_type": "code",
      "source": [
        "# Independent Feature\n",
        "#X = np.asarray(dataset['Level'].values.tolist())"
      ],
      "metadata": {
        "id": "95algiQxXZGB"
      },
      "execution_count": null,
      "outputs": []
    },
    {
      "cell_type": "code",
      "source": [
        "def polynomial_r_squared(x, y, degree):\n",
        "    coefficients = np.polyfit(x, y, degree)\n",
        "    p = np.poly1d(coefficients)\n",
        "    yhat = p(x)\n",
        "    ybar = np.sum(y) / len(y)\n",
        "    ssreg = np.sum((yhat - ybar)**2)\n",
        "    sstot = np.sum((y - ybar)**2)\n",
        "    r_squared = ssreg / sstot\n",
        "    return r_squared,coefficients,yhat,p\n",
        "val_R2,c,yhat,p = polynomial_r_squared(X, y, 2)\n",
        "val_R2"
      ],
      "metadata": {
        "colab": {
          "base_uri": "https://localhost:8080/"
        },
        "id": "ftaVpWSC9Zht",
        "outputId": "da5ba6aa-50ba-4af4-c53d-efd0e7081fd9"
      },
      "execution_count": null,
      "outputs": [
        {
          "output_type": "execute_result",
          "data": {
            "text/plain": [
              "0.916208222144394"
            ]
          },
          "metadata": {},
          "execution_count": 12
        }
      ]
    },
    {
      "cell_type": "code",
      "source": [
        "#import pandas as pd\n",
        "\n",
        "# Assuming the dataset is a pandas DataFrame\n",
        "# Extract the column you want to convert to an array\n",
        "column = dataset['Level']\n",
        "\n",
        "# Convert the column to a pandas Series object, then to a NumPy array\n",
        "X = column.to_numpy()\n",
        "#X = array.reshape(-1,1)\n",
        "X"
      ],
      "metadata": {
        "colab": {
          "base_uri": "https://localhost:8080/"
        },
        "id": "ZThkXVHZFf19",
        "outputId": "6a11c6e0-07a3-46ff-9291-9c5062a6ba0b"
      },
      "execution_count": null,
      "outputs": [
        {
          "output_type": "execute_result",
          "data": {
            "text/plain": [
              "array([ 1,  2,  3,  4,  5,  6,  7,  8,  9, 10])"
            ]
          },
          "metadata": {},
          "execution_count": 13
        }
      ]
    },
    {
      "cell_type": "code",
      "source": [
        "X = poly_features(1,X)"
      ],
      "metadata": {
        "id": "qXnThaRhVFWN"
      },
      "execution_count": null,
      "outputs": []
    },
    {
      "cell_type": "code",
      "source": [
        "#Adding the feature X0 = 1, so we have the equation: y =  W0 + (W1 * X1) + (W2 * (X1**2))\n",
        "#X = np.concatenate((X,np.ones((10,1))), axis = 1)"
      ],
      "metadata": {
        "id": "fw0PhGdmVFWU"
      },
      "execution_count": null,
      "outputs": []
    },
    {
      "cell_type": "code",
      "source": [
        "X"
      ],
      "metadata": {
        "id": "pcE64xTnVFWU",
        "outputId": "a07be3f3-5125-4c0f-865d-81ac045766c9",
        "colab": {
          "base_uri": "https://localhost:8080/"
        }
      },
      "execution_count": null,
      "outputs": [
        {
          "output_type": "execute_result",
          "data": {
            "text/plain": [
              "array([[ 1],\n",
              "       [ 2],\n",
              "       [ 3],\n",
              "       [ 4],\n",
              "       [ 5],\n",
              "       [ 6],\n",
              "       [ 7],\n",
              "       [ 8],\n",
              "       [ 9],\n",
              "       [10]])"
            ]
          },
          "metadata": {},
          "execution_count": 42
        }
      ]
    },
    {
      "cell_type": "code",
      "source": [
        "y"
      ],
      "metadata": {
        "id": "uSO16vuAVFWU",
        "outputId": "ad527ebf-aa45-4a57-a551-8b10c8426be6",
        "colab": {
          "base_uri": "https://localhost:8080/"
        }
      },
      "execution_count": null,
      "outputs": [
        {
          "output_type": "execute_result",
          "data": {
            "text/plain": [
              "array([  45000,   50000,   60000,   80000,  110000,  150000,  200000,\n",
              "        300000,  500000, 1000000])"
            ]
          },
          "metadata": {},
          "execution_count": 43
        }
      ]
    },
    {
      "cell_type": "code",
      "source": [
        "#Splitting the dataset\n",
        "X_train, y_train, X_test, y_test = split_data(X,y)"
      ],
      "metadata": {
        "id": "upP6PeVIVFWV"
      },
      "execution_count": null,
      "outputs": []
    },
    {
      "cell_type": "code",
      "source": [
        "#declaring the \"regressor\" as an object of the class polynomialRegression\n",
        "regressor = polynomialRegression()"
      ],
      "metadata": {
        "id": "XtPZ2MhQVFWV"
      },
      "execution_count": null,
      "outputs": []
    },
    {
      "cell_type": "code",
      "source": [
        "#Training \n",
        "W_trained, train_loss, num_epochs = regressor.train(X_train, y_train, epochs=200, alpha=0.00001)"
      ],
      "metadata": {
        "id": "YBP-_YakVFWV"
      },
      "execution_count": null,
      "outputs": []
    },
    {
      "cell_type": "code",
      "source": [
        "#Testing on the Test Dataset\n",
        "test_pred, test_loss = regressor.test(X_test, y_test, W_trained)"
      ],
      "metadata": {
        "id": "TdCPaTGhVFWV"
      },
      "execution_count": null,
      "outputs": []
    },
    {
      "cell_type": "markdown",
      "source": [
        "#### Visualizing\n"
      ],
      "metadata": {
        "id": "Y-mRXKlqVFWW"
      }
    },
    {
      "cell_type": "code",
      "source": [
        "pred_plot = pred_to_plot(W_trained,X)"
      ],
      "metadata": {
        "id": "mCtyxmn3VFWW"
      },
      "execution_count": null,
      "outputs": []
    },
    {
      "cell_type": "code",
      "source": [
        "plt.scatter(X[:,0], y, color = 'red')\n",
        "plt.plot(X[:,0], pred_plot, color = 'blue')\n",
        "plt.title('Naive Polynomial Regression (N = 2)')\n",
        "plt.xlabel('Position level')\n",
        "plt.ylabel('Salary')\n",
        "plt.show()"
      ],
      "metadata": {
        "id": "eIKBAbF2VFWW",
        "outputId": "8ca3d01c-3550-4e70-d9d4-607b8e5d9eba",
        "colab": {
          "base_uri": "https://localhost:8080/",
          "height": 295
        }
      },
      "execution_count": null,
      "outputs": [
        {
          "output_type": "display_data",
          "data": {
            "text/plain": [
              "<Figure size 432x288 with 1 Axes>"
            ],
            "image/png": "[encoded data removed]"
          },
          "metadata": {
            "needs_background": "light"
          }
        }
      ]
    },
    {
      "cell_type": "markdown",
      "source": [
        "We have got good results for $N=2$ but we can try for better performance by changing the value of $N$.\n",
        "\n",
        " Let us train the regressor for $N=4$."
      ],
      "metadata": {
        "id": "z_xQKHWQZfZ5"
      }
    },
    {
      "cell_type": "markdown",
      "source": [
        "### Polynomial Regression (N=4)"
      ],
      "metadata": {
        "id": "bFwXfcNtU-7w"
      }
    },
    {
      "cell_type": "code",
      "source": [
        "# Independent Feature\n",
        "X = np.asarray(dataset['Level'].values.tolist())"
      ],
      "metadata": {
        "id": "m7vCTpzGObUr"
      },
      "execution_count": null,
      "outputs": []
    },
    {
      "cell_type": "code",
      "source": [
        "# Constructing the polynomials of our Independent features \n",
        "X_poly = poly_features(3,X)"
      ],
      "metadata": {
        "id": "Ig7uR_ylT6_Q"
      },
      "execution_count": null,
      "outputs": []
    },
    {
      "cell_type": "code",
      "source": [
        "#Adding the feature X0 = 1, so we have the equation: y =  W0 + (W1 * X1) + (W2 * (X1**2))\n",
        "X_poly = np.concatenate((X_poly,np.ones((10,1))), axis = 1)"
      ],
      "metadata": {
        "id": "WHGaikOGkSYQ"
      },
      "execution_count": null,
      "outputs": []
    },
    {
      "cell_type": "code",
      "source": [
        "X_poly"
      ],
      "metadata": {
        "id": "fNkI1FZ9US_f",
        "outputId": "a091d53d-5675-4f2e-ae09-98268026fc19",
        "colab": {
          "base_uri": "https://localhost:8080/"
        }
      },
      "execution_count": null,
      "outputs": [
        {
          "output_type": "execute_result",
          "data": {
            "text/plain": [
              "array([[   1.,    1.,    1.,    1.],\n",
              "       [   2.,    4.,    8.,    1.],\n",
              "       [   3.,    9.,   27.,    1.],\n",
              "       [   4.,   16.,   64.,    1.],\n",
              "       [   5.,   25.,  125.,    1.],\n",
              "       [   6.,   36.,  216.,    1.],\n",
              "       [   7.,   49.,  343.,    1.],\n",
              "       [   8.,   64.,  512.,    1.],\n",
              "       [   9.,   81.,  729.,    1.],\n",
              "       [  10.,  100., 1000.,    1.]])"
            ]
          },
          "metadata": {},
          "execution_count": 27
        }
      ]
    },
    {
      "cell_type": "code",
      "source": [
        "y"
      ],
      "metadata": {
        "id": "B_A9RqEVvGbU",
        "outputId": "c0ea24c6-0503-4f16-c5d0-a15ea23bed18",
        "colab": {
          "base_uri": "https://localhost:8080/"
        }
      },
      "execution_count": null,
      "outputs": [
        {
          "output_type": "execute_result",
          "data": {
            "text/plain": [
              "array([  45000,   50000,   60000,   80000,  110000,  150000,  200000,\n",
              "        300000,  500000, 1000000])"
            ]
          },
          "metadata": {},
          "execution_count": 28
        }
      ]
    },
    {
      "cell_type": "code",
      "source": [
        "#Splitting the dataset\n",
        "X_train, y_train, X_test, y_test = split_data(X_poly,y)"
      ],
      "metadata": {
        "id": "SeUC0VYImNlQ"
      },
      "execution_count": null,
      "outputs": []
    },
    {
      "cell_type": "code",
      "source": [
        "#declaring the \"regressor\" as an object of the class LinearRegression\n",
        "regressor = polynomialRegression()"
      ],
      "metadata": {
        "id": "2UU50V05mRoN"
      },
      "execution_count": null,
      "outputs": []
    },
    {
      "cell_type": "code",
      "source": [
        "#Training \n",
        "W_trained, train_loss, num_epochs = regressor.train(X_train, y_train, epochs=1500, alpha=1e-8)"
      ],
      "metadata": {
        "id": "5wLjNkQnusqh"
      },
      "execution_count": null,
      "outputs": []
    },
    {
      "cell_type": "code",
      "source": [
        "#Testing on the Test Dataset\n",
        "test_pred, test_loss = regressor.test(X_test, y_test, W_trained)\n",
        "test_loss"
      ],
      "metadata": {
        "id": "_JQSySiyxJ4n",
        "colab": {
          "base_uri": "https://localhost:8080/"
        },
        "outputId": "8f6e8f65-decc-4d11-fa5c-ba0ef092c260"
      },
      "execution_count": null,
      "outputs": [
        {
          "output_type": "execute_result",
          "data": {
            "text/plain": [
              "[array([2.87999956e+12, 2.87989746e+12, 2.87789872e+12, 2.87999877e+12]),\n",
              " array([8.40499999e+16, 8.40499825e+16, 8.40496410e+16, 8.40499998e+16])]"
            ]
          },
          "metadata": {},
          "execution_count": 38
        }
      ]
    },
    {
      "cell_type": "code",
      "source": [
        "test_pred"
      ],
      "metadata": {
        "colab": {
          "base_uri": "https://localhost:8080/"
        },
        "id": "9ghgQZxR56pD",
        "outputId": "6e0aa436-4423-4492-de39-485f0684447d"
      },
      "execution_count": null,
      "outputs": [
        {
          "output_type": "execute_result",
          "data": {
            "text/plain": [
              "[2400000.0, 410000000.0]"
            ]
          },
          "metadata": {},
          "execution_count": 39
        }
      ]
    },
    {
      "cell_type": "code",
      "source": [
        "X_poly"
      ],
      "metadata": {
        "id": "jH63VP1uMs1Z",
        "outputId": "745a9c93-ce96-4d90-f86f-748567563588",
        "colab": {
          "base_uri": "https://localhost:8080/"
        }
      },
      "execution_count": null,
      "outputs": [
        {
          "output_type": "execute_result",
          "data": {
            "text/plain": [
              "array([[   1.,    1.,    1.,    1.],\n",
              "       [   2.,    4.,    8.,    1.],\n",
              "       [   3.,    9.,   27.,    1.],\n",
              "       [   4.,   16.,   64.,    1.],\n",
              "       [   5.,   25.,  125.,    1.],\n",
              "       [   6.,   36.,  216.,    1.],\n",
              "       [   7.,   49.,  343.,    1.],\n",
              "       [   8.,   64.,  512.,    1.],\n",
              "       [   9.,   81.,  729.,    1.],\n",
              "       [  10.,  100., 1000.,    1.]])"
            ]
          },
          "metadata": {},
          "execution_count": 33
        }
      ]
    },
    {
      "cell_type": "code",
      "source": [
        "pred_plot = pred_to_plot(W_trained,X_poly)"
      ],
      "metadata": {
        "id": "13Xa6LURUGDX"
      },
      "execution_count": null,
      "outputs": []
    },
    {
      "cell_type": "code",
      "source": [
        "pred_plot"
      ],
      "metadata": {
        "id": "FN5hLy2qM6mf",
        "outputId": "907b5328-d539-4a53-ba0a-73fb561e9701",
        "colab": {
          "base_uri": "https://localhost:8080/"
        }
      },
      "execution_count": null,
      "outputs": [
        {
          "output_type": "execute_result",
          "data": {
            "text/plain": [
              "[919.116549583209,\n",
              " 7177.324559231079,\n",
              " 24029.285793127805,\n",
              " 56729.14947601295,\n",
              " 110531.06483262606,\n",
              " 190689.18108770667,\n",
              " 302457.64746599447,\n",
              " 451090.6131922288,\n",
              " 641842.2274911493,\n",
              " 879966.6395874956]"
            ]
          },
          "metadata": {},
          "execution_count": 35
        }
      ]
    },
    {
      "cell_type": "code",
      "source": [
        "val_R22 = polynomial_r_squared(X, y,degree = 3)\n",
        "val_R22"
      ],
      "metadata": {
        "colab": {
          "base_uri": "https://localhost:8080/"
        },
        "id": "uZfsLtA3iWot",
        "outputId": "b113882a-4fc5-4e74-a96e-3be90c752f2e"
      },
      "execution_count": null,
      "outputs": [
        {
          "output_type": "execute_result",
          "data": {
            "text/plain": [
              "(0.9812097727913338,\n",
              " array([   4120.04662005,  -48548.95104895,  180664.33566434,\n",
              "        -121333.33333333]),\n",
              " array([ 14902.0979021 ,  78759.90675991,  94960.37296037,  88223.77622378,\n",
              "         83270.3962704 , 104820.51282051, 177594.40559441, 326312.35431235,\n",
              "        575694.63869464, 950461.53846154]),\n",
              " poly1d([   4120.04662005,  -48548.95104895,  180664.33566434,\n",
              "        -121333.33333333]))"
            ]
          },
          "metadata": {},
          "execution_count": 36
        }
      ]
    },
    {
      "cell_type": "code",
      "source": [],
      "metadata": {
        "id": "Ae5Hkdxeorhn"
      },
      "execution_count": null,
      "outputs": []
    },
    {
      "cell_type": "code",
      "source": [
        "plt.scatter(X_poly[:,0], y, color = 'red')\n",
        "plt.plot(X_poly[:,0], pred_plot, color = 'blue')\n",
        "plt.title('Naive Polynomial Regression (N=4)')\n",
        "plt.xlabel('Position level')\n",
        "plt.ylabel('Salary')\n",
        "plt.show()"
      ],
      "metadata": {
        "colab": {
          "base_uri": "https://localhost:8080/",
          "height": 295
        },
        "id": "PXajj0BJ4pFJ",
        "outputId": "ea124021-b0a2-4c42-9074-a85017b27331"
      },
      "execution_count": null,
      "outputs": [
        {
          "output_type": "display_data",
          "data": {
            "text/plain": [
              "<Figure size 432x288 with 1 Axes>"
            ],
            "image/png": "[encoded data removed]"
          },
          "metadata": {
            "needs_background": "light"
          }
        }
      ]
    },
    {
      "cell_type": "markdown",
      "source": [
        "Clearly, the regressor with $N=4$ performs better than the regressor with $N=2$. You can increase the value of $N$ and look for better performance but, be careful that you don't run into the problem of **Overfitting**.\n",
        "\n",
        "As of now, our best regressor has $N=4$ and therefore, we will train the polynomial regression using sklearn only for $N=4$"
      ],
      "metadata": {
        "id": "nQBI53TeZ7mq"
      }
    }
  ]
}